{
 "cells": [
  {
   "cell_type": "markdown",
   "id": "c4f69a45-afa4-4fd4-b540-193e759b9c66",
   "metadata": {},
   "source": [
    "# Data Science Ecosystem"
   ]
  },
  {
   "cell_type": "markdown",
   "id": "169d4100-7755-457d-81f2-de005968cb09",
   "metadata": {},
   "source": [
    "## Author\n",
    "Akogwu Ngbede"
   ]
  },
  {
   "cell_type": "markdown",
   "id": "14a4217f-7142-4ebb-80c6-f13d102a38f7",
   "metadata": {},
   "source": [
    "In this notebook,Data Science Tools and Ecosystem are summarized\n",
    "*Objectives:*\n",
    "* List popular languages for Data science\n",
    "* Identify commonly used libraries and tools by Data scientist\n",
    "* Understand how to evaluate arithmetics expression\n",
    "* Convert time units(minutes to hour)\n"
   ]
  },
  {
   "cell_type": "markdown",
   "id": "7d69d0dd-b6df-4ee3-b010-dfe4d01d930d",
   "metadata": {},
   "source": [
    "# Some of the popular languages that Data scienctists use are:\n",
    "1. Python\n",
    "2. SQL\n",
    "3. R\n",
    "4. Julia\n",
    "5. MATLAB"
   ]
  },
  {
   "cell_type": "markdown",
   "id": "f513b5fd-fe67-43a8-9888-af5920d71f17",
   "metadata": {},
   "source": [
    "# Some of the commonly used libraries used by Data Scientist include:\n",
    "1.Python Libraries \n",
    "2. R-Libraries\n",
    "3. Keras\n",
    "\n",
    "   \n"
   ]
  },
  {
   "cell_type": "markdown",
   "id": "31f3490d-9f31-47c8-9253-805aca7451eb",
   "metadata": {},
   "source": [
    "# Data Science Tools\n",
    "|*Tools*| *Description*|*Category*|\n",
    "|-------|--------------|----------|\n",
    "|Jupyter Notebook|Web-based interactive computingenvironment|Deveopment|\n",
    "|GitHub|Version control and collaboration platform|Development|\n",
    "|pandas|Library for data manipulation and analysis|Data analysis|\n"
   ]
  },
  {
   "cell_type": "markdown",
   "id": "fe7720a2-6d0b-42d1-83b4-8a950913e26b",
   "metadata": {},
   "source": [
    "### Below are a few examples of evaluating arithmetic expression in python"
   ]
  },
  {
   "cell_type": "code",
   "execution_count": 1,
   "id": "5fcc2744-89c1-4bc7-b59c-f563c1fdf79f",
   "metadata": {},
   "outputs": [
    {
     "name": "stdout",
     "output_type": "stream",
     "text": [
      "17\n"
     ]
    }
   ],
   "source": [
    "# This is a simple arithmetic expression to multiply then add integers.\n",
    "result=(3*4)+5\n",
    "print (result)"
   ]
  },
  {
   "cell_type": "code",
   "execution_count": 2,
   "id": "5eae2a59-18da-40cd-8f3b-b76f1655de7c",
   "metadata": {},
   "outputs": [
    {
     "data": {
      "text/plain": [
       "3.3333333333333335"
      ]
     },
     "execution_count": 2,
     "metadata": {},
     "output_type": "execute_result"
    }
   ],
   "source": [
    "# This will convert 200 minutes to hours by dividing by 60.\n",
    "200/60"
   ]
  }
 ],
 "metadata": {
  "kernelspec": {
   "display_name": "Python 3 (ipykernel)",
   "language": "python",
   "name": "python3"
  },
  "language_info": {
   "codemirror_mode": {
    "name": "ipython",
    "version": 3
   },
   "file_extension": ".py",
   "mimetype": "text/x-python",
   "name": "python",
   "nbconvert_exporter": "python",
   "pygments_lexer": "ipython3",
   "version": "3.11.7"
  }
 },
 "nbformat": 4,
 "nbformat_minor": 5
}
